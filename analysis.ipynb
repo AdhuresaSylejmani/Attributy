{
 "cells": [
  {
   "cell_type": "code",
   "execution_count": 1,
   "metadata": {},
   "outputs": [],
   "source": [
    "import os.path as osp\n",
    "import numpy as np\n",
    "import matplotlib.pyplot as plt\n",
    "import pandas as pd\n",
    "\n",
    "from src import CSVReader, DataProcessor"
   ]
  },
  {
   "cell_type": "code",
   "execution_count": 2,
   "metadata": {},
   "outputs": [
    {
     "name": "stdout",
     "output_type": "stream",
     "text": [
      "Data loaded successfully from dataset.csv\n"
     ]
    }
   ],
   "source": [
    "reader = CSVReader('dataset.csv')\n",
    "reader.load_data()\n",
    "df = reader.get_dataframe()"
   ]
  },
  {
   "cell_type": "code",
   "execution_count": 3,
   "metadata": {},
   "outputs": [
    {
     "data": {
      "text/html": [
       "<div>\n",
       "<style scoped>\n",
       "    .dataframe tbody tr th:only-of-type {\n",
       "        vertical-align: middle;\n",
       "    }\n",
       "\n",
       "    .dataframe tbody tr th {\n",
       "        vertical-align: top;\n",
       "    }\n",
       "\n",
       "    .dataframe thead th {\n",
       "        text-align: right;\n",
       "    }\n",
       "</style>\n",
       "<table border=\"1\" class=\"dataframe\">\n",
       "  <thead>\n",
       "    <tr style=\"text-align: right;\">\n",
       "      <th></th>\n",
       "      <th>ip_address</th>\n",
       "      <th>marketing_channel</th>\n",
       "      <th>purchase</th>\n",
       "      <th>state</th>\n",
       "      <th>time_spent_seconds</th>\n",
       "    </tr>\n",
       "  </thead>\n",
       "  <tbody>\n",
       "    <tr>\n",
       "      <th>0</th>\n",
       "      <td>149.18.157.125</td>\n",
       "      <td>Category A</td>\n",
       "      <td>NaN</td>\n",
       "      <td>Wyoming</td>\n",
       "      <td>1745.0</td>\n",
       "    </tr>\n",
       "    <tr>\n",
       "      <th>1</th>\n",
       "      <td>108.29.170.186</td>\n",
       "      <td>Category C</td>\n",
       "      <td>NaN</td>\n",
       "      <td>Maryland</td>\n",
       "      <td>953.0</td>\n",
       "    </tr>\n",
       "    <tr>\n",
       "      <th>2</th>\n",
       "      <td>53.57.236.159</td>\n",
       "      <td>Category D</td>\n",
       "      <td>NaN</td>\n",
       "      <td>Nebraska</td>\n",
       "      <td>1196.0</td>\n",
       "    </tr>\n",
       "    <tr>\n",
       "      <th>3</th>\n",
       "      <td>106.136.105.81</td>\n",
       "      <td>Category A</td>\n",
       "      <td>NaN</td>\n",
       "      <td>Michigan</td>\n",
       "      <td>863.0</td>\n",
       "    </tr>\n",
       "    <tr>\n",
       "      <th>4</th>\n",
       "      <td>168.251.246.107</td>\n",
       "      <td>Category A</td>\n",
       "      <td>61.95</td>\n",
       "      <td>Florida</td>\n",
       "      <td>128.0</td>\n",
       "    </tr>\n",
       "  </tbody>\n",
       "</table>\n",
       "</div>"
      ],
      "text/plain": [
       "        ip_address marketing_channel  purchase     state  time_spent_seconds\n",
       "0   149.18.157.125        Category A       NaN   Wyoming              1745.0\n",
       "1   108.29.170.186        Category C       NaN  Maryland               953.0\n",
       "2    53.57.236.159        Category D       NaN  Nebraska              1196.0\n",
       "3   106.136.105.81        Category A       NaN  Michigan               863.0\n",
       "4  168.251.246.107        Category A     61.95   Florida               128.0"
      ]
     },
     "execution_count": 3,
     "metadata": {},
     "output_type": "execute_result"
    }
   ],
   "source": [
    "df.head()"
   ]
  },
  {
   "cell_type": "code",
   "execution_count": 4,
   "metadata": {},
   "outputs": [],
   "source": [
    "dp = DataProcessor(df)\n",
    "PLOTS_DIR = 'analysis'"
   ]
  },
  {
   "cell_type": "markdown",
   "metadata": {},
   "source": [
    "### Outliers"
   ]
  },
  {
   "cell_type": "markdown",
   "metadata": {},
   "source": [
    "From the statistical summary below we can see that our numerical columns don't really appear to have any outliers. \n",
    "\n",
    "Using the rule of thumb of considering outliers values that are 3 STDs from the mean we have:\n",
    "\n",
    "- For *purchase*: *max[219] < mean[117] + 3 * std [60]* (the min value is also within range)\n",
    "- For *time_spend_seconds*: *max[1798] < mean[920] + 3 * std[502]*"
   ]
  },
  {
   "cell_type": "code",
   "execution_count": 5,
   "metadata": {},
   "outputs": [
    {
     "data": {
      "text/html": [
       "<div>\n",
       "<style scoped>\n",
       "    .dataframe tbody tr th:only-of-type {\n",
       "        vertical-align: middle;\n",
       "    }\n",
       "\n",
       "    .dataframe tbody tr th {\n",
       "        vertical-align: top;\n",
       "    }\n",
       "\n",
       "    .dataframe thead th {\n",
       "        text-align: right;\n",
       "    }\n",
       "</style>\n",
       "<table border=\"1\" class=\"dataframe\">\n",
       "  <thead>\n",
       "    <tr style=\"text-align: right;\">\n",
       "      <th></th>\n",
       "      <th>purchase</th>\n",
       "      <th>time_spent_seconds</th>\n",
       "    </tr>\n",
       "  </thead>\n",
       "  <tbody>\n",
       "    <tr>\n",
       "      <th>count</th>\n",
       "      <td>461.000000</td>\n",
       "      <td>809.000000</td>\n",
       "    </tr>\n",
       "    <tr>\n",
       "      <th>mean</th>\n",
       "      <td>117.371996</td>\n",
       "      <td>920.478368</td>\n",
       "    </tr>\n",
       "    <tr>\n",
       "      <th>std</th>\n",
       "      <td>60.726165</td>\n",
       "      <td>502.090252</td>\n",
       "    </tr>\n",
       "    <tr>\n",
       "      <th>min</th>\n",
       "      <td>11.190000</td>\n",
       "      <td>11.000000</td>\n",
       "    </tr>\n",
       "    <tr>\n",
       "      <th>25%</th>\n",
       "      <td>65.370000</td>\n",
       "      <td>509.000000</td>\n",
       "    </tr>\n",
       "    <tr>\n",
       "      <th>50%</th>\n",
       "      <td>119.860000</td>\n",
       "      <td>926.000000</td>\n",
       "    </tr>\n",
       "    <tr>\n",
       "      <th>75%</th>\n",
       "      <td>169.340000</td>\n",
       "      <td>1357.000000</td>\n",
       "    </tr>\n",
       "    <tr>\n",
       "      <th>max</th>\n",
       "      <td>219.130000</td>\n",
       "      <td>1798.000000</td>\n",
       "    </tr>\n",
       "  </tbody>\n",
       "</table>\n",
       "</div>"
      ],
      "text/plain": [
       "         purchase  time_spent_seconds\n",
       "count  461.000000          809.000000\n",
       "mean   117.371996          920.478368\n",
       "std     60.726165          502.090252\n",
       "min     11.190000           11.000000\n",
       "25%     65.370000          509.000000\n",
       "50%    119.860000          926.000000\n",
       "75%    169.340000         1357.000000\n",
       "max    219.130000         1798.000000"
      ]
     },
     "execution_count": 5,
     "metadata": {},
     "output_type": "execute_result"
    }
   ],
   "source": [
    "dp.statistical_summary()"
   ]
  },
  {
   "cell_type": "code",
   "execution_count": 6,
   "metadata": {},
   "outputs": [
    {
     "data": {
      "image/png": "[encoded data removed]",
      "text/plain": [
       "<Figure size 640x480 with 1 Axes>"
      ]
     },
     "metadata": {},
     "output_type": "display_data"
    }
   ],
   "source": [
    "boxplot_purchase = dp.get_boxplot('purchase')\n",
    "dp.store_plot(boxplot_purchase, osp.join(PLOTS_DIR, 'boxplot_purchase.jpg'))\n",
    "plt.show()"
   ]
  },
  {
   "cell_type": "code",
   "execution_count": 7,
   "metadata": {},
   "outputs": [
    {
     "data": {
      "image/png": "[encoded data removed]",
      "text/plain": [
       "<Figure size 640x480 with 1 Axes>"
      ]
     },
     "metadata": {},
     "output_type": "display_data"
    }
   ],
   "source": [
    "boxplot_time_spent_seconds = dp.get_boxplot('time_spent_seconds')\n",
    "dp.store_plot(boxplot_time_spent_seconds, osp.join(PLOTS_DIR, 'time_spent_seconds.jpg'))\n",
    "plt.show()"
   ]
  },
  {
   "cell_type": "markdown",
   "metadata": {},
   "source": [
    "The two boxplots also confirm that we don't have any outliers since we don't have any datapoints outside the whiskers' range."
   ]
  },
  {
   "cell_type": "markdown",
   "metadata": {},
   "source": [
    "### Distribution of Values"
   ]
  },
  {
   "cell_type": "code",
   "execution_count": 8,
   "metadata": {},
   "outputs": [
    {
     "data": {
      "image/png": "[encoded data removed]",
      "text/plain": [
       "<Figure size 1500x1300 with 3 Axes>"
      ]
     },
     "execution_count": 8,
     "metadata": {},
     "output_type": "execute_result"
    }
   ],
   "source": [
    "hist = dp.plot_and_save_histograms(['marketing_channel', 'purchase', 'time_spent_seconds'])\n",
    "dp.store_plot(hist, osp.join(PLOTS_DIR, 'histograms.jpg'))\n",
    "hist"
   ]
  },
  {
   "cell_type": "markdown",
   "metadata": {},
   "source": [
    "- The distribution of the data for the marketing channel is havely skewed towards category A, indicating a significant preference for this type of marketing channel.\n",
    "- The distribution for purchase & time spent seems to be fairly uniform on the other hand, with only a slight peak around 1000 seconds for time spent."
   ]
  },
  {
   "cell_type": "markdown",
   "metadata": {},
   "source": [
    "### Key Insights"
   ]
  },
  {
   "cell_type": "code",
   "execution_count": 9,
   "metadata": {},
   "outputs": [
    {
     "name": "stdout",
     "output_type": "stream",
     "text": [
      "Convertion rate: 46.1%\n"
     ]
    }
   ],
   "source": [
    "non_nan_purchases = df['purchase'].notna().sum()\n",
    "cr = non_nan_purchases / len(df) * 100\n",
    "print(f'Convertion rate: {cr}%')"
   ]
  },
  {
   "cell_type": "code",
   "execution_count": 10,
   "metadata": {},
   "outputs": [
    {
     "name": "stdout",
     "output_type": "stream",
     "text": [
      "Highest Total Amount Sold: Montana with $2423.85\n",
      "Lowest Total Amount Sold: Connecticut with $200.73\n",
      "Highest Number of Individual Sales: Montana with 21 sales\n",
      "Lowest Number of Individual Sales: North Carolina with 2 sales\n"
     ]
    }
   ],
   "source": [
    "sales_data = df.dropna(subset=['purchase'])\n",
    "state_sales = sales_data.groupby('state')['purchase'].agg(['sum', 'count'])\n",
    "\n",
    "highest_amount_state = state_sales['sum'].idxmax()\n",
    "lowest_amount_state = state_sales['sum'].idxmin()\n",
    "\n",
    "print(f\"Highest Total Amount Sold: {highest_amount_state} with ${state_sales['sum'][highest_amount_state]:.2f}\")\n",
    "print(f\"Lowest Total Amount Sold: {lowest_amount_state} with ${state_sales['sum'][lowest_amount_state]:.2f}\")\n",
    "\n",
    "highest_sales_count_state = state_sales['count'].idxmax()\n",
    "lowest_sales_count_state = state_sales['count'].idxmin()\n",
    "\n",
    "print(f\"Highest Number of Individual Sales: {highest_sales_count_state} with {state_sales['count'][highest_sales_count_state]} sales\")\n",
    "print(f\"Lowest Number of Individual Sales: {lowest_sales_count_state} with {state_sales['count'][lowest_sales_count_state]} sales\")"
   ]
  },
  {
   "cell_type": "markdown",
   "metadata": {},
   "source": [
    "### Data Processing"
   ]
  },
  {
   "cell_type": "code",
   "execution_count": 11,
   "metadata": {},
   "outputs": [],
   "source": [
    "dp.add_converted_column()\n",
    "dp.add_state_abbreviation_column()\n",
    "dp.add_normalized_column(column='purchase')\n",
    "dp.add_85_percentile_state()\n",
    "dp.add_85_percentile_nationality()\n",
    "dp.fill_in_missing_with_median('time_spent_seconds')"
   ]
  },
  {
   "cell_type": "code",
   "execution_count": 12,
   "metadata": {},
   "outputs": [
    {
     "data": {
      "text/html": [
       "<div>\n",
       "<style scoped>\n",
       "    .dataframe tbody tr th:only-of-type {\n",
       "        vertical-align: middle;\n",
       "    }\n",
       "\n",
       "    .dataframe tbody tr th {\n",
       "        vertical-align: top;\n",
       "    }\n",
       "\n",
       "    .dataframe thead th {\n",
       "        text-align: right;\n",
       "    }\n",
       "</style>\n",
       "<table border=\"1\" class=\"dataframe\">\n",
       "  <thead>\n",
       "    <tr style=\"text-align: right;\">\n",
       "      <th></th>\n",
       "      <th>ip_address</th>\n",
       "      <th>marketing_channel</th>\n",
       "      <th>purchase</th>\n",
       "      <th>state</th>\n",
       "      <th>time_spent_seconds</th>\n",
       "      <th>converted</th>\n",
       "      <th>state_abbreviation</th>\n",
       "      <th>purchase_normalized</th>\n",
       "      <th>85th_percentile_state</th>\n",
       "      <th>85th_percentile_national</th>\n",
       "    </tr>\n",
       "  </thead>\n",
       "  <tbody>\n",
       "    <tr>\n",
       "      <th>0</th>\n",
       "      <td>149.18.157.125</td>\n",
       "      <td>Category A</td>\n",
       "      <td>NaN</td>\n",
       "      <td>Wyoming</td>\n",
       "      <td>1745.0</td>\n",
       "      <td>0</td>\n",
       "      <td>WY</td>\n",
       "      <td>NaN</td>\n",
       "      <td>0</td>\n",
       "      <td>0</td>\n",
       "    </tr>\n",
       "    <tr>\n",
       "      <th>1</th>\n",
       "      <td>108.29.170.186</td>\n",
       "      <td>Category C</td>\n",
       "      <td>NaN</td>\n",
       "      <td>Maryland</td>\n",
       "      <td>953.0</td>\n",
       "      <td>0</td>\n",
       "      <td>MD</td>\n",
       "      <td>NaN</td>\n",
       "      <td>0</td>\n",
       "      <td>0</td>\n",
       "    </tr>\n",
       "    <tr>\n",
       "      <th>2</th>\n",
       "      <td>53.57.236.159</td>\n",
       "      <td>Category D</td>\n",
       "      <td>NaN</td>\n",
       "      <td>Nebraska</td>\n",
       "      <td>1196.0</td>\n",
       "      <td>0</td>\n",
       "      <td>NE</td>\n",
       "      <td>NaN</td>\n",
       "      <td>0</td>\n",
       "      <td>0</td>\n",
       "    </tr>\n",
       "    <tr>\n",
       "      <th>3</th>\n",
       "      <td>106.136.105.81</td>\n",
       "      <td>Category A</td>\n",
       "      <td>NaN</td>\n",
       "      <td>Michigan</td>\n",
       "      <td>863.0</td>\n",
       "      <td>0</td>\n",
       "      <td>MI</td>\n",
       "      <td>NaN</td>\n",
       "      <td>0</td>\n",
       "      <td>0</td>\n",
       "    </tr>\n",
       "    <tr>\n",
       "      <th>4</th>\n",
       "      <td>168.251.246.107</td>\n",
       "      <td>Category A</td>\n",
       "      <td>61.95</td>\n",
       "      <td>Florida</td>\n",
       "      <td>128.0</td>\n",
       "      <td>1</td>\n",
       "      <td>FL</td>\n",
       "      <td>-0.912654</td>\n",
       "      <td>0</td>\n",
       "      <td>0</td>\n",
       "    </tr>\n",
       "    <tr>\n",
       "      <th>...</th>\n",
       "      <td>...</td>\n",
       "      <td>...</td>\n",
       "      <td>...</td>\n",
       "      <td>...</td>\n",
       "      <td>...</td>\n",
       "      <td>...</td>\n",
       "      <td>...</td>\n",
       "      <td>...</td>\n",
       "      <td>...</td>\n",
       "      <td>...</td>\n",
       "    </tr>\n",
       "    <tr>\n",
       "      <th>995</th>\n",
       "      <td>52.211.198.5</td>\n",
       "      <td>Category A</td>\n",
       "      <td>NaN</td>\n",
       "      <td>Missouri</td>\n",
       "      <td>232.0</td>\n",
       "      <td>0</td>\n",
       "      <td>MO</td>\n",
       "      <td>NaN</td>\n",
       "      <td>0</td>\n",
       "      <td>0</td>\n",
       "    </tr>\n",
       "    <tr>\n",
       "      <th>996</th>\n",
       "      <td>67.251.77.3</td>\n",
       "      <td>Category A</td>\n",
       "      <td>169.64</td>\n",
       "      <td>South Dakota</td>\n",
       "      <td>301.0</td>\n",
       "      <td>1</td>\n",
       "      <td>SD</td>\n",
       "      <td>0.860716</td>\n",
       "      <td>0</td>\n",
       "      <td>0</td>\n",
       "    </tr>\n",
       "    <tr>\n",
       "      <th>997</th>\n",
       "      <td>40.38.8.84</td>\n",
       "      <td>Category A</td>\n",
       "      <td>NaN</td>\n",
       "      <td>Missouri</td>\n",
       "      <td>1030.0</td>\n",
       "      <td>0</td>\n",
       "      <td>MO</td>\n",
       "      <td>NaN</td>\n",
       "      <td>0</td>\n",
       "      <td>0</td>\n",
       "    </tr>\n",
       "    <tr>\n",
       "      <th>998</th>\n",
       "      <td>187.73.203.76</td>\n",
       "      <td>Category A</td>\n",
       "      <td>136.28</td>\n",
       "      <td>North Dakota</td>\n",
       "      <td>1626.0</td>\n",
       "      <td>1</td>\n",
       "      <td>ND</td>\n",
       "      <td>0.311365</td>\n",
       "      <td>1</td>\n",
       "      <td>0</td>\n",
       "    </tr>\n",
       "    <tr>\n",
       "      <th>999</th>\n",
       "      <td>168.212.183.234</td>\n",
       "      <td>Category C</td>\n",
       "      <td>119.87</td>\n",
       "      <td>Wyoming</td>\n",
       "      <td>312.0</td>\n",
       "      <td>1</td>\n",
       "      <td>WY</td>\n",
       "      <td>0.041136</td>\n",
       "      <td>0</td>\n",
       "      <td>0</td>\n",
       "    </tr>\n",
       "  </tbody>\n",
       "</table>\n",
       "<p>1000 rows × 10 columns</p>\n",
       "</div>"
      ],
      "text/plain": [
       "          ip_address marketing_channel  purchase         state  \\\n",
       "0     149.18.157.125        Category A       NaN       Wyoming   \n",
       "1     108.29.170.186        Category C       NaN      Maryland   \n",
       "2      53.57.236.159        Category D       NaN      Nebraska   \n",
       "3     106.136.105.81        Category A       NaN      Michigan   \n",
       "4    168.251.246.107        Category A     61.95       Florida   \n",
       "..               ...               ...       ...           ...   \n",
       "995     52.211.198.5        Category A       NaN      Missouri   \n",
       "996      67.251.77.3        Category A    169.64  South Dakota   \n",
       "997       40.38.8.84        Category A       NaN      Missouri   \n",
       "998    187.73.203.76        Category A    136.28  North Dakota   \n",
       "999  168.212.183.234        Category C    119.87       Wyoming   \n",
       "\n",
       "     time_spent_seconds  converted state_abbreviation  purchase_normalized  \\\n",
       "0                1745.0          0                 WY                  NaN   \n",
       "1                 953.0          0                 MD                  NaN   \n",
       "2                1196.0          0                 NE                  NaN   \n",
       "3                 863.0          0                 MI                  NaN   \n",
       "4                 128.0          1                 FL            -0.912654   \n",
       "..                  ...        ...                ...                  ...   \n",
       "995               232.0          0                 MO                  NaN   \n",
       "996               301.0          1                 SD             0.860716   \n",
       "997              1030.0          0                 MO                  NaN   \n",
       "998              1626.0          1                 ND             0.311365   \n",
       "999               312.0          1                 WY             0.041136   \n",
       "\n",
       "     85th_percentile_state  85th_percentile_national  \n",
       "0                        0                         0  \n",
       "1                        0                         0  \n",
       "2                        0                         0  \n",
       "3                        0                         0  \n",
       "4                        0                         0  \n",
       "..                     ...                       ...  \n",
       "995                      0                         0  \n",
       "996                      0                         0  \n",
       "997                      0                         0  \n",
       "998                      1                         0  \n",
       "999                      0                         0  \n",
       "\n",
       "[1000 rows x 10 columns]"
      ]
     },
     "execution_count": 12,
     "metadata": {},
     "output_type": "execute_result"
    }
   ],
   "source": [
    "dp.data"
   ]
  },
  {
   "cell_type": "code",
   "execution_count": null,
   "metadata": {},
   "outputs": [],
   "source": []
  }
 ],
 "metadata": {
  "kernelspec": {
   "display_name": "Python 3",
   "language": "python",
   "name": "python3"
  },
  "language_info": {
   "codemirror_mode": {
    "name": "ipython",
    "version": 3
   },
   "file_extension": ".py",
   "mimetype": "text/x-python",
   "name": "python",
   "nbconvert_exporter": "python",
   "pygments_lexer": "ipython3",
   "version": "3.7.3"
  }
 },
 "nbformat": 4,
 "nbformat_minor": 5
}
